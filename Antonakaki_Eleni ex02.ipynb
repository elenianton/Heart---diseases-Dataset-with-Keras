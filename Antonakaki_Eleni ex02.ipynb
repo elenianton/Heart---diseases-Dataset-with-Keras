{
 "cells": [
  {
   "cell_type": "code",
   "execution_count": 10,
   "metadata": {
    "scrolled": true
   },
   "outputs": [
    {
     "data": {
      "text/html": [
       "<div>\n",
       "<style scoped>\n",
       "    .dataframe tbody tr th:only-of-type {\n",
       "        vertical-align: middle;\n",
       "    }\n",
       "\n",
       "    .dataframe tbody tr th {\n",
       "        vertical-align: top;\n",
       "    }\n",
       "\n",
       "    .dataframe thead th {\n",
       "        text-align: right;\n",
       "    }\n",
       "</style>\n",
       "<table border=\"1\" class=\"dataframe\">\n",
       "  <thead>\n",
       "    <tr style=\"text-align: right;\">\n",
       "      <th></th>\n",
       "      <th>age</th>\n",
       "      <th>sex</th>\n",
       "      <th>cp</th>\n",
       "      <th>trestbps</th>\n",
       "      <th>chol</th>\n",
       "      <th>fbs</th>\n",
       "      <th>restecg</th>\n",
       "      <th>thalach</th>\n",
       "      <th>exang</th>\n",
       "      <th>oldpeak</th>\n",
       "      <th>slope</th>\n",
       "      <th>ca</th>\n",
       "      <th>thal</th>\n",
       "      <th>target</th>\n",
       "    </tr>\n",
       "  </thead>\n",
       "  <tbody>\n",
       "    <tr>\n",
       "      <th>1</th>\n",
       "      <td>63</td>\n",
       "      <td>1</td>\n",
       "      <td>3</td>\n",
       "      <td>145</td>\n",
       "      <td>233</td>\n",
       "      <td>1</td>\n",
       "      <td>0</td>\n",
       "      <td>150</td>\n",
       "      <td>0</td>\n",
       "      <td>2.3</td>\n",
       "      <td>0</td>\n",
       "      <td>0</td>\n",
       "      <td>1</td>\n",
       "      <td>1</td>\n",
       "    </tr>\n",
       "    <tr>\n",
       "      <th>2</th>\n",
       "      <td>37</td>\n",
       "      <td>1</td>\n",
       "      <td>2</td>\n",
       "      <td>130</td>\n",
       "      <td>250</td>\n",
       "      <td>0</td>\n",
       "      <td>1</td>\n",
       "      <td>187</td>\n",
       "      <td>0</td>\n",
       "      <td>3.5</td>\n",
       "      <td>0</td>\n",
       "      <td>0</td>\n",
       "      <td>2</td>\n",
       "      <td>1</td>\n",
       "    </tr>\n",
       "    <tr>\n",
       "      <th>3</th>\n",
       "      <td>41</td>\n",
       "      <td>0</td>\n",
       "      <td>1</td>\n",
       "      <td>130</td>\n",
       "      <td>204</td>\n",
       "      <td>0</td>\n",
       "      <td>0</td>\n",
       "      <td>172</td>\n",
       "      <td>0</td>\n",
       "      <td>1.4</td>\n",
       "      <td>2</td>\n",
       "      <td>0</td>\n",
       "      <td>2</td>\n",
       "      <td>1</td>\n",
       "    </tr>\n",
       "    <tr>\n",
       "      <th>4</th>\n",
       "      <td>56</td>\n",
       "      <td>1</td>\n",
       "      <td>1</td>\n",
       "      <td>120</td>\n",
       "      <td>236</td>\n",
       "      <td>0</td>\n",
       "      <td>1</td>\n",
       "      <td>178</td>\n",
       "      <td>0</td>\n",
       "      <td>0.8</td>\n",
       "      <td>2</td>\n",
       "      <td>0</td>\n",
       "      <td>2</td>\n",
       "      <td>1</td>\n",
       "    </tr>\n",
       "    <tr>\n",
       "      <th>5</th>\n",
       "      <td>57</td>\n",
       "      <td>0</td>\n",
       "      <td>0</td>\n",
       "      <td>120</td>\n",
       "      <td>354</td>\n",
       "      <td>0</td>\n",
       "      <td>1</td>\n",
       "      <td>163</td>\n",
       "      <td>1</td>\n",
       "      <td>0.6</td>\n",
       "      <td>2</td>\n",
       "      <td>0</td>\n",
       "      <td>2</td>\n",
       "      <td>1</td>\n",
       "    </tr>\n",
       "  </tbody>\n",
       "</table>\n",
       "</div>"
      ],
      "text/plain": [
       "  age sex cp trestbps chol fbs restecg thalach exang oldpeak slope ca thal  \\\n",
       "1  63   1  3      145  233   1       0     150     0     2.3     0  0    1   \n",
       "2  37   1  2      130  250   0       1     187     0     3.5     0  0    2   \n",
       "3  41   0  1      130  204   0       0     172     0     1.4     2  0    2   \n",
       "4  56   1  1      120  236   0       1     178     0     0.8     2  0    2   \n",
       "5  57   0  0      120  354   0       1     163     1     0.6     2  0    2   \n",
       "\n",
       "  target  \n",
       "1      1  \n",
       "2      1  \n",
       "3      1  \n",
       "4      1  \n",
       "5      1  "
      ]
     },
     "execution_count": 10,
     "metadata": {},
     "output_type": "execute_result"
    }
   ],
   "source": [
    "import os\n",
    "import numpy as np\n",
    "import pandas as pd\n",
    "from matplotlib import pyplot as plt\n",
    "from scipy import optimize\n",
    "import sys\n",
    "from sklearn import linear_model,metrics\n",
    "from sklearn.model_selection import train_test_split\n",
    "import seaborn as sns\n",
    "\n",
    "\n",
    "filename=  os.path.abspath(\"heart.csv\") #import csv file\n",
    "data = pd.read_csv(filename,header= None, names =[\"age\",\"sex\",\"cp\",\"trestbps\",\"chol\",\"fbs\",\"restecg\",\"thalach\",\"exang\",\"oldpeak\",\"slope\",\"ca\",\"thal\",\"target\"])\n",
    "dataframe= data.drop(data.index[0]) #delete first row with headers\n",
    "dataframe.head() \n"
   ]
  },
  {
   "cell_type": "code",
   "execution_count": 11,
   "metadata": {},
   "outputs": [
    {
     "data": {
      "text/plain": [
       "(91, 14)"
      ]
     },
     "execution_count": 11,
     "metadata": {},
     "output_type": "execute_result"
    }
   ],
   "source": [
    "dataframe = dataframe.to_numpy(dtype=np.float64) #turn dataframe into array\n",
    "\n",
    "X = dataframe[:,:-1]  #first 13 columns for features\n",
    "y = dataframe[:,-1] #last 1 column for target variable\n",
    "\n",
    "\n",
    "m, n = X.shape\n",
    "X = np.concatenate([np.ones((m, 1)), X], axis=1) # add a column of ones/ intercept\n",
    "\n",
    "#split data into train and test set, random state for constant results. \n",
    "#after we train our classification algorithm, it needs to be able to generalize well new data.\n",
    "X_train, X_test, y_train, y_test= train_test_split(X,y, test_size=0.30, train_size=0.70, random_state=2) \n",
    "\n",
    "#X_train.shape\n",
    "X_test.shape\n"
   ]
  },
  {
   "cell_type": "code",
   "execution_count": 12,
   "metadata": {},
   "outputs": [],
   "source": [
    "'''LOGISTIC REGRESSION MODEL- sklearn package'''\n",
    "\n",
    "#variable for my model named 'regr'\n",
    "regr = linear_model.LogisticRegression(fit_intercept=False, max_iter=1000) #maximum number of iterations\n",
    "\n",
    "#fit the model using train set\n",
    "regr.fit(X_train,y_train) \n",
    "\n",
    "# make predictions using the testing set\n",
    "y_pred_test = regr.predict(X_test)\n",
    "\n",
    "# make predictions using the training set\n",
    "y_pred_train= regr.predict(X_train)\n",
    "\n"
   ]
  },
  {
   "cell_type": "code",
   "execution_count": 13,
   "metadata": {},
   "outputs": [
    {
     "name": "stdout",
     "output_type": "stream",
     "text": [
      "Accuracy for test set/LR:  0.8901098901098901\n",
      "Accuracy for train set/LR:  0.8443396226415094\n",
      "\n",
      "\n"
     ]
    },
    {
     "data": {
      "image/png": "[encoded data removed]",
      "text/plain": [
       "<Figure size 360x360 with 2 Axes>"
      ]
     },
     "metadata": {
      "needs_background": "light"
     },
     "output_type": "display_data"
    },
    {
     "data": {
      "image/png": "[encoded data removed]",
      "text/plain": [
       "<Figure size 360x360 with 2 Axes>"
      ]
     },
     "metadata": {
      "needs_background": "light"
     },
     "output_type": "display_data"
    }
   ],
   "source": [
    "#evaluate model using train and test set\n",
    "print(\"Accuracy for test set/LR: \",regr.score(X_test, y_test)) #acc= correct predictions / total number of data points\n",
    "#print(accuracy_score(y_test, y_pred_test))\n",
    "print(\"Accuracy for train set/LR: \",regr.score(X_train, y_train))\n",
    "print()\n",
    "#print(\"theta (parameters): \",regr.coef_) #print coefficients \n",
    "print()\n",
    "\n",
    "#confusion matrix for test set\n",
    "confusion_m_test = metrics.confusion_matrix(y_test, y_pred_test)\n",
    "#print(confusion_m_test)\n",
    "f, ax = plt.subplots(figsize=(5,5)) #visualize confusion matrix for test set\n",
    "sns.heatmap(confusion_m_test,annot = True, linewidths=0.5,linecolor=\"black\",fmt=\".0f\",ax=ax)\n",
    "plt.xlabel(\"Y pred for test set\")\n",
    "plt.ylabel(\"Y actual for test set\")\n",
    "plt.title(\"Confusion matrix for test set/LR\")\n",
    "plt.show()\n",
    "\n",
    "#confusion matrix for train set\n",
    "confusion_m_train = metrics.confusion_matrix(y_train, y_pred_train)\n",
    "#print(confusion_m_train)\n",
    "f, ax = plt.subplots(figsize=(5,5)) #visualize confusion matrix for train set. I  chose this way of plotting rather than a simple 'print' because it provides well the two matrices.\n",
    "sns.heatmap(confusion_m_train,annot = True, linewidths=0.5,linecolor=\"black\",fmt=\".0f\",ax=ax)\n",
    "plt.xlabel(\"Y pred for train set\")\n",
    "plt.ylabel(\"Y actual for train set\")\n",
    "plt.title(\"Confusion matrix for train set/LR\")\n",
    "plt.show()"
   ]
  },
  {
   "cell_type": "code",
   "execution_count": 26,
   "metadata": {},
   "outputs": [
    {
     "data": {
      "text/plain": [
       "{'C': 10, 'kernel': 'linear'}"
      ]
     },
     "execution_count": 26,
     "metadata": {},
     "output_type": "execute_result"
    }
   ],
   "source": [
    "'''SUPPORT VECTOR MACHINE with sklearn'''\n",
    "\n",
    "from sklearn.model_selection import GridSearchCV\n",
    "from sklearn.svm import SVC\n",
    "\n",
    "  \n",
    "#find the best parameters for my SVC model\n",
    "params={'kernel':('linear','rbf'), #define hyperparameters for 'kernel' and 'C','gamma'=auto \n",
    "       'C':[1,10,20]}\n",
    "\n",
    "model=SVC() \n",
    "GridSVC= GridSearchCV(model,params,cv=5) #cv for cross validation\n",
    "GridSVC.fit(X_train,y_train) #train model in order to find the best params \n",
    "\n",
    "GridSVC.best_params_ #find the best parameters for my data\n"
   ]
  },
  {
   "cell_type": "code",
   "execution_count": 27,
   "metadata": {},
   "outputs": [],
   "source": [
    "SVM_model= SVC(kernel='linear',C= 1E1,gamma='auto') #train my model again using only the best params\n",
    "SVM_model.fit(X_train,y_train)\n",
    "y_pred_test= SVM_model.predict(X_test) #make predictions for test set\n",
    "y_pred_train= SVM_model.predict(X_train) #make predictions for train set\n"
   ]
  },
  {
   "cell_type": "code",
   "execution_count": 28,
   "metadata": {},
   "outputs": [
    {
     "name": "stdout",
     "output_type": "stream",
     "text": [
      "Accuracy for test set/SVM:  0.8461538461538461\n",
      "Accuracy for train set/SVM:  0.839622641509434\n",
      "\n"
     ]
    },
    {
     "data": {
      "image/png": "[encoded data removed]",
      "text/plain": [
       "<Figure size 360x360 with 2 Axes>"
      ]
     },
     "metadata": {
      "needs_background": "light"
     },
     "output_type": "display_data"
    },
    {
     "data": {
      "image/png": "[encoded data removed]",
      "text/plain": [
       "<Figure size 360x360 with 2 Axes>"
      ]
     },
     "metadata": {
      "needs_background": "light"
     },
     "output_type": "display_data"
    }
   ],
   "source": [
    "print(\"Accuracy for test set/SVM: \",SVM_model.score(X_test, y_test)) #acc= correct predictions / total number of data points\n",
    "print(\"Accuracy for train set/SVM: \",SVM_model.score(X_train, y_train))\n",
    "print()\n",
    "\n",
    "#confusion Matrix \n",
    "confusion_m_test = metrics.confusion_matrix(y_test, y_pred_test)\n",
    "confusion_m_train = metrics.confusion_matrix(y_train, y_pred_train)\n",
    "\n",
    "f, ax = plt.subplots(figsize=(5,5)) #visualize confusion matrix for train set\n",
    "sns.heatmap(confusion_m_test,annot = True, linewidths=0.5,linecolor=\"black\",fmt=\".0f\",ax=ax)\n",
    "plt.xlabel(\"Y pred for test set\")\n",
    "plt.ylabel(\"Y actual for test set\")\n",
    "plt.title(\"Confusion matrix for test set/SVM-linear\")\n",
    "plt.show()\n",
    "\n",
    "f, ax = plt.subplots(figsize=(5,5)) #visualize confusion matrix for train set\n",
    "sns.heatmap(confusion_m_train,annot = True, linewidths=0.5,linecolor=\"black\",fmt=\".0f\",ax=ax)\n",
    "plt.xlabel(\"Y pred for train set\")\n",
    "plt.ylabel(\"Y actual for train set\")\n",
    "plt.title(\"Confusion matrix for train set/SVM-linear\")\n",
    "plt.show()"
   ]
  },
  {
   "cell_type": "code",
   "execution_count": 17,
   "metadata": {},
   "outputs": [
    {
     "name": "stdout",
     "output_type": "stream",
     "text": [
      "Accuracy for test set/SVM linear:  0.8461538461538461\n",
      "Accuracy for train set/SVM linear:  0.839622641509434\n",
      "\n"
     ]
    }
   ],
   "source": [
    "#test radial and linear kernel with C=1, C=10, C=20, results on report\n",
    "#accuracy for test and train set\n",
    "\n",
    "\n",
    "SVM_model= SVC(kernel='linear',C= 20, gamma='auto') #train my model using C\n",
    "SVM_model.fit(X_train,y_train)\n",
    "y_pred_test= SVM_model.predict(X_test) #make predictions for test set\n",
    "y_pred_train= SVM_model.predict(X_train) #make predictions for train set\n",
    "\n",
    "print(\"Accuracy for test set/SVM linear: \",SVM_model.score(X_test, y_test)) #acc= correct predictions / total number of data points\n",
    "print(\"Accuracy for train set/SVM linear: \",SVM_model.score(X_train, y_train))\n",
    "print()\n"
   ]
  },
  {
   "cell_type": "code",
   "execution_count": 18,
   "metadata": {},
   "outputs": [],
   "source": [
    "'''Naive Bayes Classifier with sklearn''' #predictors are independent\n",
    "\n",
    "from sklearn.naive_bayes import GaussianNB\n",
    "\n",
    "nb_class = GaussianNB() #initialize my model with default hyperparameters\n",
    "nb_class.fit(X_train, y_train) #train NB model\n",
    "\n",
    "y_pred_test = nb_class.predict(X_test) #make predictions\n",
    "y_pred_train = nb_class.predict(X_train)"
   ]
  },
  {
   "cell_type": "code",
   "execution_count": 19,
   "metadata": {},
   "outputs": [
    {
     "name": "stdout",
     "output_type": "stream",
     "text": [
      "Accuracy for test set/NB:  0.8571428571428571\n",
      "Accuracy for train set/NB:  0.8018867924528302\n",
      "\n"
     ]
    },
    {
     "data": {
      "image/png": "[encoded data removed]",
      "text/plain": [
       "<Figure size 360x360 with 2 Axes>"
      ]
     },
     "metadata": {
      "needs_background": "light"
     },
     "output_type": "display_data"
    },
    {
     "data": {
      "image/png": "[encoded data removed]",
      "text/plain": [
       "<Figure size 360x360 with 2 Axes>"
      ]
     },
     "metadata": {
      "needs_background": "light"
     },
     "output_type": "display_data"
    }
   ],
   "source": [
    "print(\"Accuracy for test set/NB: \",nb_class.score(X_test, y_test)) #acc= correct predictions / total number of data points\n",
    "print(\"Accuracy for train set/NB: \",nb_class.score(X_train, y_train))\n",
    "print()\n",
    "\n",
    "#confusion Matrix \n",
    "confusion_m_test = metrics.confusion_matrix(y_test, y_pred_test)\n",
    "confusion_m_train = metrics.confusion_matrix(y_train, y_pred_train)\n",
    "\n",
    "f, ax = plt.subplots(figsize=(5,5)) #visualize confusion matrix for train set\n",
    "sns.heatmap(confusion_m_test,annot = True, linewidths=0.5,linecolor=\"black\",fmt=\".0f\",ax=ax)\n",
    "plt.xlabel(\"Y pred for test set\")\n",
    "plt.ylabel(\"Y actual for test set\")\n",
    "plt.title(\"Confusion matrix for test set/NB\")\n",
    "plt.show()\n",
    "\n",
    "f, ax = plt.subplots(figsize=(5,5)) #visualize confusion matrix for train set\n",
    "sns.heatmap(confusion_m_train,annot = True, linewidths=0.5,linecolor=\"black\",fmt=\".0f\",ax=ax)\n",
    "plt.xlabel(\"Y pred for train set\")\n",
    "plt.ylabel(\"Y actual for train set\")\n",
    "plt.title(\"Confusion matrix for train set/NB\")\n",
    "plt.show()"
   ]
  },
  {
   "cell_type": "code",
   "execution_count": 20,
   "metadata": {},
   "outputs": [
    {
     "name": "stderr",
     "output_type": "stream",
     "text": [
      "C:\\ProgramData\\Anaconda3\\lib\\site-packages\\sklearn\\linear_model\\_logistic.py:762: ConvergenceWarning: lbfgs failed to converge (status=1):\n",
      "STOP: TOTAL NO. of ITERATIONS REACHED LIMIT.\n",
      "\n",
      "Increase the number of iterations (max_iter) or scale the data as shown in:\n",
      "    https://scikit-learn.org/stable/modules/preprocessing.html\n",
      "Please also refer to the documentation for alternative solver options:\n",
      "    https://scikit-learn.org/stable/modules/linear_model.html#logistic-regression\n",
      "  n_iter_i = _check_optimize_result(\n"
     ]
    }
   ],
   "source": [
    "\"ΒΟΝUS\" \n",
    "\n",
    "#1. polynomial features for logistic regression\n",
    "\n",
    "from sklearn.preprocessing import PolynomialFeatures\n",
    "\n",
    "poly = PolynomialFeatures(degree = 2, interaction_only=False, include_bias=False) \n",
    "#The degree of the polynomial features,def. 2\n",
    "\n",
    "X_train_poly = poly.fit_transform(X_train)\n",
    "X_train_poly.shape #119 features (from 14)\n",
    "X_test_poly= poly.fit_transform(X_test)\n",
    "X_test_poly.shape \n",
    "\n",
    "lr = linear_model.LogisticRegression(fit_intercept=False,max_iter=1000)\n",
    "lr.fit(X_train_poly,y_train) #fit logistic regression model using train set\n",
    "\n",
    "y_pred_test_pol= lr.predict(X_test_poly)\n",
    "y_pred_train_pol= lr.predict(X_train_poly)\n",
    "\n"
   ]
  },
  {
   "cell_type": "code",
   "execution_count": 21,
   "metadata": {},
   "outputs": [
    {
     "name": "stdout",
     "output_type": "stream",
     "text": [
      "Accuracy for test set/LR polynomial:  0.8681318681318682\n",
      "Accuracy for train set/LR polynomial:  0.8679245283018868\n"
     ]
    },
    {
     "data": {
      "image/png": "[encoded data removed]",
      "text/plain": [
       "<Figure size 360x360 with 2 Axes>"
      ]
     },
     "metadata": {
      "needs_background": "light"
     },
     "output_type": "display_data"
    }
   ],
   "source": [
    "#evaluate model using train and test set\n",
    "\n",
    "print(\"Accuracy for test set/LR polynomial: \",lr.score(X_test_poly, y_test)) #acc= correct predictions / total number of data points\n",
    "print(\"Accuracy for train set/LR polynomial: \",lr.score(X_train_poly, y_train)) \n",
    "\n",
    "\n",
    "confusion_m_test = metrics.confusion_matrix(y_test, y_pred_test_pol)\n",
    "f, ax = plt.subplots(figsize=(5,5)) #visualize confusion matrix for train set\n",
    "sns.heatmap(confusion_m_test,annot = True, linewidths=0.5,linecolor=\"black\",fmt=\".0f\",ax=ax)\n",
    "plt.xlabel(\"Y pred for test set\")\n",
    "plt.ylabel(\"Y actual for test set\")\n",
    "plt.title(\"Confusion matrix for test set/Logistic R. polynomial\")\n",
    "plt.show()\n"
   ]
  },
  {
   "cell_type": "code",
   "execution_count": 22,
   "metadata": {},
   "outputs": [
    {
     "name": "stdout",
     "output_type": "stream",
     "text": [
      "Accuracy for test set/LR, C=1:  0.8901098901098901\n",
      "Accuracy for train set/LR, C=1:  0.8443396226415094\n",
      "\n"
     ]
    }
   ],
   "source": [
    "#2. Hyperparameters C for Logistic Regression\n",
    "\n",
    "lr_bonus= linear_model.LogisticRegression(fit_intercept=False, max_iter=1000, C=1) #default C=1\n",
    "\n",
    "lr_bonus.fit(X_train,y_train) #fit logistic regression model using train set\n",
    "\n",
    "y_pred_test= lr_bonus.predict(X_test)\n",
    "y_pred_train= lr_bonus.predict(X_train)\n",
    "print(\"Accuracy for test set/LR, C=1: \",lr_bonus.score(X_test, y_test)) #acc= correct predictions / total number of data points\n",
    "print(\"Accuracy for train set/LR, C=1: \",lr_bonus.score(X_train, y_train)) \n",
    "print()\n",
    "\n",
    "\n"
   ]
  },
  {
   "cell_type": "code",
   "execution_count": 23,
   "metadata": {},
   "outputs": [
    {
     "name": "stdout",
     "output_type": "stream",
     "text": [
      "Accuracy for test set/LR, C=5:  0.8791208791208791\n",
      "Accuracy for train set/LR, C=5:  0.839622641509434\n",
      "\n"
     ]
    }
   ],
   "source": [
    "lr_bonus1=linear_model.LogisticRegression(fit_intercept=False, max_iter=1000, C=5.0) #C=5\n",
    "lr_bonus1.fit(X_train,y_train) \n",
    "\n",
    "y_pred_test= lr_bonus1.predict(X_test)\n",
    "y_pred_train= lr_bonus1.predict(X_train)\n",
    "print(\"Accuracy for test set/LR, C=5: \",lr_bonus1.score(X_test, y_test)) #acc= correct predictions / total number of data points\n",
    "print(\"Accuracy for train set/LR, C=5: \",lr_bonus1.score(X_train, y_train)) \n",
    "\n",
    "print()\n",
    "\n"
   ]
  },
  {
   "cell_type": "code",
   "execution_count": 24,
   "metadata": {},
   "outputs": [
    {
     "name": "stdout",
     "output_type": "stream",
     "text": [
      "Accuracy for test set/LR, C=10:  0.8791208791208791\n",
      "Accuracy for train set/LR, C=10:  0.8443396226415094\n"
     ]
    }
   ],
   "source": [
    "lr_bonus2=linear_model.LogisticRegression(fit_intercept=False, max_iter=1000, C=10.0) #C=10\n",
    "lr_bonus2.fit(X_train,y_train) \n",
    "\n",
    "y_pred_test= lr_bonus2.predict(X_test)\n",
    "y_pred_train= lr_bonus2.predict(X_train)\n",
    "print(\"Accuracy for test set/LR, C=10: \",lr_bonus2.score(X_test, y_test)) #acc= correct predictions / total number of data points\n",
    "print(\"Accuracy for train set/LR, C=10: \",lr_bonus2.score(X_train, y_train)) \n"
   ]
  },
  {
   "cell_type": "code",
   "execution_count": 25,
   "metadata": {},
   "outputs": [
    {
     "data": {
      "text/plain": [
       "{'C': 5}"
      ]
     },
     "execution_count": 25,
     "metadata": {},
     "output_type": "execute_result"
    }
   ],
   "source": [
    "#find the best parameter for C=[1,5,10] for my Logistic Regression model \n",
    "\n",
    "params={'C':[1,5,10]} #define hyperparameters for 'C'\n",
    "\n",
    "model= linear_model.LogisticRegression(fit_intercept=False, max_iter=1000) \n",
    "GridLogistic= GridSearchCV(model,params,cv=5) #cv for cross validation\n",
    "GridLogistic.fit(X_train,y_train) #train model in order to find the best params \n",
    "\n",
    "GridLogistic.best_params_ #find the best parameters for my data"
   ]
  },
  {
   "cell_type": "code",
   "execution_count": null,
   "metadata": {},
   "outputs": [],
   "source": []
  },
  {
   "cell_type": "code",
   "execution_count": null,
   "metadata": {},
   "outputs": [],
   "source": []
  },
  {
   "cell_type": "code",
   "execution_count": null,
   "metadata": {},
   "outputs": [],
   "source": []
  },
  {
   "cell_type": "code",
   "execution_count": null,
   "metadata": {},
   "outputs": [],
   "source": []
  }
 ],
 "metadata": {
  "kernelspec": {
   "display_name": "Python 3",
   "language": "python",
   "name": "python3"
  },
  "language_info": {
   "codemirror_mode": {
    "name": "ipython",
    "version": 3
   },
   "file_extension": ".py",
   "mimetype": "text/x-python",
   "name": "python",
   "nbconvert_exporter": "python",
   "pygments_lexer": "ipython3",
   "version": "3.8.5"
  }
 },
 "nbformat": 4,
 "nbformat_minor": 4
}
